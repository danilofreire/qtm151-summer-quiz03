{
 "cells": [
  {
   "cell_type": "markdown",
   "id": "f1b3a2c1",
   "metadata": {},
   "source": [
    "# QTM 151 - Python Quiz 03 (Based on Lectures 10, 11, 12, 13)\n",
    "\n",
    "**Instructions:**\n",
    "* For each task, write the Python code or SQL query in the designated cell to achieve the described outcome.\n",
    "* For Python tasks, assume necessary libraries (`numpy` as `np`, `pandas` as `pd`, `matplotlib.pyplot` as `plt`, `sqlite3`) are imported if the context implies their use. A common import cell is provided.\n",
    "* For SQL tasks, write the SQL query directly. Assume a database connection is established and a cursor is available if using Python to execute SQL."
   ]
  },
  {
   "cell_type": "markdown",
   "id": "d2e4f5g6",
   "metadata": {},
   "source": [
    "## Student Information\n",
    "\n",
    "**Name:** [Enter Your Name Here]\n",
    "\n",
    "---"
   ]
  },
  {
   "cell_type": "markdown",
   "id": "h7i8j9k0",
   "metadata": {},
   "source": [
    "### Common Library Imports (for Python tasks)\n",
    "You can run this cell once at the beginning like we did before. It also contains a table you will use for some tasks."
   ]
  },
  {
   "cell_type": "code",
   "execution_count": null,
   "id": "l1m2n3o4",
   "metadata": {},
   "outputs": [],
   "source": [
    "# Import the necessary libraries\n",
    "import numpy as np\n",
    "import pandas as pd\n",
    "import sqlite3\n",
    "\n",
    "# Setup a connection to memory (not in a file) SQLite database for the quiz\n",
    "conn = sqlite3.connect(':memory:')\n",
    "cursor = conn.cursor()\n",
    "\n",
    "# Create table \"products\"\n",
    "cursor.execute('''\n",
    "CREATE TABLE IF NOT EXISTS products (\n",
    "    product_id INTEGER PRIMARY KEY AUTOINCREMENT,\n",
    "    product_name TEXT NOT NULL,\n",
    "    category TEXT,\n",
    "    price REAL,\n",
    "    stock_quantity INTEGER\n",
    ");\n",
    "''')\n",
    "cursor.execute(\"INSERT INTO products (product_name, category, price, stock_quantity) VALUES ('Laptop', 'Electronics', 1200.00, 50);\")\n",
    "cursor.execute(\"INSERT INTO products (product_name, category, price, stock_quantity) VALUES ('Coffee Maker', 'Appliances', 75.50, 120);\")\n",
    "cursor.execute(\"INSERT INTO products (product_name, category, price, stock_quantity) VALUES ('Desk Chair', 'Furniture', 150.75, 30);\")\n",
    "cursor.execute(\"INSERT INTO products (product_name, category, price, stock_quantity) VALUES ('Wireless Mouse', 'Electronics', 25.00, 200);\")\n",
    "cursor.execute(\"INSERT INTO products (product_name, category, price, stock_quantity) VALUES ('Bookshelf', 'Furniture', 90.00, 75);\")\n",
    "\n",
    "# Commit the query to save the table\n",
    "conn.commit()\n",
    "\n",
    "# Check if the table was saved correctly\n",
    "cursor.execute(\"SELECT * FROM products\").fetchall()"
   ]
  },
  {
   "cell_type": "markdown",
   "id": "p5q6r7s8",
   "metadata": {},
   "source": [
    "---"
   ]
  },
  {
   "cell_type": "markdown",
   "id": "t9u0v1w2",
   "metadata": {},
   "source": [
    "**Task 1: Pandas DataFrame Subsetting with `.query()` (Lec 10)**\n",
    "Given the `products` table (loaded into a Pandas DataFrame called `df_products`):\n",
    "1. Load the `products` table from the SQLite database into a Pandas DataFrame called `df_products`.\n",
    "2. Use the `.query()` method to select all products from `df_products` that are in the 'Electronics' category AND have a `price` greater than £100.\n",
    "3. Print the resulting DataFrame."
   ]
  },
  {
   "cell_type": "code",
   "execution_count": null,
   "id": "x3y4z5a6",
   "metadata": {},
   "outputs": [],
   "source": [
    "# Write your answer for Task 1 here\n"
   ]
  },
  {
   "cell_type": "markdown",
   "id": "b7c8d9e0",
   "metadata": {},
   "source": [
    "---"
   ]
  },
  {
   "cell_type": "markdown",
   "id": "f1g2h3i4",
   "metadata": {},
   "source": [
    "**Task 2: Pandas DataFrame Subsetting with `.iloc[]` and Sorting (Lec 10)**\n",
    "Using the `df_products` DataFrame from Task 1:\n",
    "1. Sort `df_products` by `price` in descending order.\n",
    "2. Using `.iloc[]`, select the first 3 rows (the three most expensive products) and only the `product_name` and `price` columns.\n",
    "3. Print the resulting DataFrame."
   ]
  },
  {
   "cell_type": "code",
   "execution_count": null,
   "id": "j5k6l7m8",
   "metadata": {},
   "outputs": [],
   "source": [
    "# Write your answer for Task 2 here\n"
   ]
  },
  {
   "cell_type": "markdown",
   "id": "n9o0p1q2",
   "metadata": {},
   "source": [
    "---"
   ]
  },
  {
   "cell_type": "markdown",
   "id": "r3s4t5u6",
   "metadata": {},
   "source": [
    "**Task 3: SQL `SELECT` with `WHERE` and `ORDER BY` (Lec 11)**\n",
    "Write an SQL query to select the `product_name` and `price` from the `products` table for all products where the `stock_quantity` is less than 50.\n",
    "The results should be ordered by `price` in ascending order.\n",
    "(You can use `pd.read_sql(your_sql_query, conn)` to display the result)."
   ]
  },
  {
   "cell_type": "code",
   "execution_count": null,
   "id": "v7w8x9y0",
   "metadata": {},
   "outputs": [],
   "source": [
    "# Write your answer for Task 3 here\n"
   ]
  },
  {
   "cell_type": "markdown",
   "id": "z1a2b3c4",
   "metadata": {},
   "source": [
    "---"
   ]
  },
  {
   "cell_type": "markdown",
   "id": "d5e6f7g8",
   "metadata": {},
   "source": [
    "**Task 4: SQL `GROUP BY` and Aggregate Functions (Lec 11)**\n",
    "Write an SQL query to find the average `price` and total `stock_quantity` for each `category` in the `products` table.\n",
    "The results should show `category`, `avg_price`, and `total_stock`.\n",
    "Alias the aggregated columns appropriately."
   ]
  },
  {
   "cell_type": "code",
   "execution_count": null,
   "id": "h9i0j1k2",
   "metadata": {},
   "outputs": [],
   "source": [
    "# Write your answer for Task 4 here\n"
   ]
  },
  {
   "cell_type": "markdown",
   "id": "l3m4n5o6",
   "metadata": {},
   "source": [
    "---"
   ]
  },
  {
   "cell_type": "markdown",
   "id": "p7q8r9s0",
   "metadata": {},
   "source": [
    "**Task 5: Python with `sqlite3` - `INSERT` and `SELECT` (Lec 12)**\n",
    "1. Using Python and the `sqlite3` module (the `cursor` object is already available from the setup cell):\n",
    "\n",
    "   a. Insert a new product into the `products` table: `product_name`='Gaming Keyboard', `category`='Electronics', `price`=75.00, `stock_quantity`=150.\n",
    "   \n",
    "   b. Commit the change.\n",
    "\n",
    "2. Write a Python code snippet to select all products from the 'Electronics' category using `cursor.execute()` and then print each row fetched using a loop and `.fetchall()` or by iterating over the cursor."
   ]
  },
  {
   "cell_type": "code",
   "execution_count": null,
   "id": "t1u2v3w4",
   "metadata": {},
   "outputs": [],
   "source": [
    "# Write your answer for Task 5 here\n"
   ]
  },
  {
   "cell_type": "markdown",
   "id": "x5y6z7a8",
   "metadata": {},
   "source": [
    "---"
   ]
  },
  {
   "cell_type": "markdown",
   "id": "b9c0d1e2",
   "metadata": {},
   "source": [
    "**Task 6: SQL `LIKE` and `COALESCE` (Lec 12)**\n",
    "First, let's add a product with a NULL category for testing this task:\n",
    "```python\n",
    "cursor.execute(\"INSERT INTO products (product_name, category, price, stock_quantity) VALUES ('Desk Lamp', NULL, 35.00, 90);\")\n",
    "conn.commit()\n",
    "```\n",
    "Write an SQL query to select `product_name` and `category` from the `products` table.\n",
    "- For products where `category` is NULL, display 'Uncategorised' instead of NULL (use `COALESCE`).\n",
    "- Only include products whose `product_name` contains the word 'Desk'."
   ]
  },
  {
   "cell_type": "code",
   "execution_count": null,
   "id": "f3g4h5i6",
   "metadata": {},
   "outputs": [],
   "source": [
    "# Setup code for Task 6 (run this first)\n",
    "\n",
    "\n",
    "# Write your answer for Task 6 here\n"
   ]
  },
  {
   "cell_type": "markdown",
   "id": "j7k8l9m0",
   "metadata": {},
   "source": [
    "---"
   ]
  },
  {
   "cell_type": "markdown",
   "id": "n1o2p3q4",
   "metadata": {},
   "source": [
    "**Task 7: SQL Window Function `RANK()` (Lec 12)**\n",
    "Write an SQL query to select `product_name`, `category`, and `price` from the `products` table.\n",
    "Also include a column `price_rank_within_category` that ranks products by price within each category (highest price gets rank 1).\n",
    "Order the results by category and then by the price rank."
   ]
  },
  {
   "cell_type": "code",
   "execution_count": null,
   "id": "r5s6t7u8",
   "metadata": {},
   "outputs": [],
   "source": [
    "# Write your answer for Task 7 here\n"
   ]
  },
  {
   "cell_type": "markdown",
   "id": "v9w0x1y2",
   "metadata": {},
   "source": [
    "---"
   ]
  },
  {
   "cell_type": "markdown",
   "id": "z3a4b5c6",
   "metadata": {},
   "source": [
    "**Task 8: SQL `CASE WHEN` Statement (Lec 12)**\n",
    "Write an SQL query to select `product_name` and `price` from the `products` table.\n",
    "Add a new column `price_label` based on the `price`:\n",
    "- If `price` < 50, `price_label` is 'Budget'.\n",
    "- If `price` is between 50 and 100 (inclusive), `price_label` is 'Mid-Range'.\n",
    "- If `price` > 100, `price_label` is 'Premium'."
   ]
  },
  {
   "cell_type": "code",
   "execution_count": null,
   "id": "d7e8f9g0",
   "metadata": {},
   "outputs": [],
   "source": [
    "# Write your answer for Task 8 here\n"
   ]
  },
  {
   "cell_type": "markdown",
   "id": "h1i2j3k4",
   "metadata": {},
   "source": [
    "---"
   ]
  },
  {
   "cell_type": "markdown",
   "id": "l5m6n7o8",
   "metadata": {},
   "source": [
    "**Task 9: SQL `INNER JOIN` (Lec 13)**\n",
    "First, create a new table `orders` and insert some data (shown below).\n",
    "\n",
    "Then, write an SQL query to list the `product_name` and `quantity_ordered` for all orders.\n",
    "Only include orders where the `product_id` exists in both the `orders` and `products` tables."
   ]
  },
  {
   "cell_type": "code",
   "execution_count": null,
   "id": "p9q0r1s2",
   "metadata": {},
   "outputs": [],
   "source": [
    "# Setup code for Task 9 (run this first)\n",
    "cursor.execute('DROP TABLE IF EXISTS orders;')\n",
    "cursor.execute('''\n",
    "CREATE TABLE orders (\n",
    "    order_id INTEGER PRIMARY KEY,\n",
    "    product_id INTEGER,\n",
    "    quantity_ordered INTEGER,\n",
    "    FOREIGN KEY (product_id) REFERENCES products(product_id)\n",
    ");\n",
    "''')\n",
    "cursor.execute(\"INSERT INTO orders VALUES (101, 1, 2);\")\n",
    "cursor.execute(\"INSERT INTO orders VALUES (102, 3, 1);\")\n",
    "cursor.execute(\"INSERT INTO orders VALUES (103, 1, 1);\")\n",
    "cursor.execute(\"INSERT INTO orders VALUES (104, 4, 5);\")\n",
    "cursor.execute(\"INSERT INTO orders VALUES (105, 7, 1);\") \n",
    "conn.commit()\n",
    "\n",
    "# Write your answer for Task 9 here\n"
   ]
  },
  {
   "cell_type": "markdown",
   "id": "t3u4v5w6",
   "metadata": {},
   "source": [
    "---"
   ]
  },
  {
   "cell_type": "markdown",
   "id": "x7y8z9a0",
   "metadata": {},
   "source": [
    "**Task 10: SQL `LEFT JOIN` (Lec 13)**\n",
    "Using the `products` and `orders` tables (as set up in Task 9):\n",
    "Write an SQL query to list all `product_name`s from the `products` table, and if there are any orders for that product, show the `quantity_ordered`.\n",
    "If a product has no orders, `quantity_ordered` should be NULL (or show as `None` in Pandas)."
   ]
  },
  {
   "cell_type": "code",
   "execution_count": null,
   "id": "b1c2d3e4",
   "metadata": {},
   "outputs": [],
   "source": [
    "# Write your answer for Task 10 here\n"
   ]
  },
  {
   "cell_type": "markdown",
   "id": "f5g6h7i8",
   "metadata": {},
   "source": [
    "---"
   ]
  },
  {
   "cell_type": "markdown",
   "id": "j9k0l1m2",
   "metadata": {},
   "source": [
    "**Task 11: SQL `UNION` (Lec 13)**\n",
    "Write an SQL query that returns two sets of product names from the `products` table and combines them:\n",
    "1. Products in the 'Electronics' category.\n",
    "2. Products with a `price` less than $80.\n",
    "   \n",
    "Use `UNION` to combine these results. Include the `product_name` and `category` or `price` to distinguish the source of the row if helpful (e.g., add a literal string column like `'From Electronics'` or `'From Low Price'`)."
   ]
  },
  {
   "cell_type": "code",
   "execution_count": null,
   "id": "n3o4p5q6",
   "metadata": {},
   "outputs": [],
   "source": [
    "# Write your answer for Task 11 here\n"
   ]
  },
  {
   "cell_type": "markdown",
   "id": "r7s8t9u0",
   "metadata": {},
   "source": [
    "---"
   ]
  },
  {
   "cell_type": "markdown",
   "id": "v1w2x3y4",
   "metadata": {},
   "source": [
    "**Task 12: SQL `CREATE VIEW` (Lec 13)**\n",
    "Write an SQL statement to create a `VIEW` named `electronics_products_view`.\n",
    "This view should select all columns from the `products` table but only for products where the `category` is 'Electronics'.\n",
    "After creating the view, write a separate SQL query to select all data from this new view to verify its creation."
   ]
  },
  {
   "cell_type": "code",
   "execution_count": null,
   "id": "z5a6b7c8",
   "metadata": {},
   "outputs": [],
   "source": [
    "# Write your SQL for CREATE VIEW for Task 12 here\n"
   ]
  },
  {
   "cell_type": "markdown",
   "id": "d9e0f1g2",
   "metadata": {},
   "source": [
    "---"
   ]
  },
  {
   "cell_type": "markdown",
   "id": "t5u6v7w8",
   "metadata": {},
   "source": [
    "**Task 13: SQL `SELF JOIN` (Harder) (Lec 13)**\n",
    "Consider the `products` table. Write an SQL query to find pairs of products within the same `category` where one product is more expensive than the other.\n",
    "The result should show `category`, `product1_name`, `product1_price`, `product2_name`, `product2_price`.\n",
    "Ensure you don't list a product paired with itself and avoid duplicate pairs (e.g., if (A,B) is listed, don't list (B,A)).\n",
    "Order by category, then by product1_name."
   ]
  },
  {
   "cell_type": "code",
   "execution_count": null,
   "id": "x9y0z1a2",
   "metadata": {},
   "outputs": [],
   "source": [
    "# Write your answer for Task 13 here\n"
   ]
  },
  {
   "cell_type": "markdown",
   "id": "b3c4d5e6",
   "metadata": {},
   "source": [
    "---"
   ]
  },
  {
   "cell_type": "markdown",
   "id": "f7g8h9i0",
   "metadata": {},
   "source": [
    "**Task 14: SQL `UPSERT` (INSERT ... ON CONFLICT) (Lec 13)**\n",
    "Using the `products` table:\n",
    "1. Attempt to `INSERT` a new product: `product_id`=2, `product_name`='Super Coffee Maker', `category`='Appliances', `price`=80.00, `stock_quantity`=10.\n",
    "2. Since `product_id`=2 already exists (Coffee Maker), use an `ON CONFLICT` clause for the `product_id` to `DO UPDATE` SET the `price` to the new price (80.00) and add the new `stock_quantity` (10) to the existing `stock_quantity`.\n",
    "3. After the UPSERT operation, select and display the row for `product_id`=2 to verify the changes."
   ]
  },
  {
   "cell_type": "code",
   "execution_count": null,
   "id": "j1k2l3m4",
   "metadata": {},
   "outputs": [],
   "source": [
    "# Write your answer for Task 14 here\n"
   ]
  },
  {
   "cell_type": "markdown",
   "id": "n5o6p7q8",
   "metadata": {},
   "source": [
    "--- \n",
    "*(Optional: Close the database connection at the end of the notebook)*"
   ]
  },
  {
   "cell_type": "code",
   "execution_count": null,
   "id": "r9s0t1u2",
   "metadata": {},
   "outputs": [],
   "source": [
    "conn.close()"
   ]
  }
 ],
 "metadata": {
  "kernelspec": {
   "display_name": "base",
   "language": "python",
   "name": "python3"
  },
  "language_info": {
   "codemirror_mode": {
    "name": "ipython",
    "version": 3
   },
   "file_extension": ".py",
   "mimetype": "text/x-python",
   "name": "python",
   "nbconvert_exporter": "python",
   "pygments_lexer": "ipython3",
   "version": "3.13.2"
  }
 },
 "nbformat": 4,
 "nbformat_minor": 5
}
